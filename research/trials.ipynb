{
 "cells": [
  {
   "cell_type": "code",
   "execution_count": 29,
   "metadata": {},
   "outputs": [
    {
     "name": "stdout",
     "output_type": "stream",
     "text": [
      "Model: \"model\"\n",
      "__________________________________________________________________________________________________\n",
      " Layer (type)                Output Shape                 Param #   Connected to                  \n",
      "==================================================================================================\n",
      " encoder_data (InputLayer)   [(None, None, 55)]           0         []                            \n",
      "                                                                                                  \n",
      " encoder_lstm_1 (LSTM)       (None, None, 256)            319488    ['encoder_data[0][0]']        \n",
      "                                                                                                  \n",
      " decoder_data (InputLayer)   [(None, None, 56)]           0         []                            \n",
      "                                                                                                  \n",
      " encoder_lstm_2 (LSTM)       [(None, 256),                525312    ['encoder_lstm_1[0][0]']      \n",
      "                              (None, 256),                                                        \n",
      "                              (None, 256)]                                                        \n",
      "                                                                                                  \n",
      " decoder_lstm (LSTM)         [(None, None, 256),          320512    ['decoder_data[0][0]',        \n",
      "                              (None, 256),                           'encoder_lstm_2[0][1]',      \n",
      "                              (None, 256)]                           'encoder_lstm_2[0][2]']      \n",
      "                                                                                                  \n",
      " decoder_softmax (Dense)     (None, None, 56)             14392     ['decoder_lstm[0][0]']        \n",
      "                                                                                                  \n",
      "==================================================================================================\n",
      "Total params: 1179704 (4.50 MB)\n",
      "Trainable params: 1179704 (4.50 MB)\n",
      "Non-trainable params: 0 (0.00 Byte)\n",
      "__________________________________________________________________________________________________\n"
     ]
    }
   ],
   "source": [
    "import tensorflow as tf\n",
    "import keras\n",
    "\n",
    "# Define a custom metric function for truncated accuracy\n",
    "def truncated_acc(y_true, y_pred):\n",
    "  # Round the predictions to the nearest integer\n",
    "  y_pred = tf.round(y_pred)\n",
    "  # Compare the predictions with the true labels\n",
    "  correct = tf.equal(y_true, y_pred)\n",
    "  # Count the number of correct predictions\n",
    "  total = tf.reduce_sum(tf.cast(correct, tf.float32))\n",
    "  # Divide by the total number of predictions\n",
    "  return total / tf.cast(tf.size(y_true), tf.float32)\n",
    "\n",
    "# Define a custom loss function for truncated loss\n",
    "def truncated_loss(y_true, y_pred):\n",
    "  # Calculate the mean squared error\n",
    "  mse = tf.keras.losses.MeanSquaredError()\n",
    "  # Apply a truncation threshold\n",
    "  threshold = 0.5\n",
    "  # Return the truncated loss\n",
    "  return tf.minimum(mse(y_true, y_pred), threshold)\n",
    "\n",
    "# Load the model with the custom metric function\n",
    "new_model = tf.keras.models.load_model('lstm_epoch_100.h5', custom_objects={'truncated_acc': truncated_acc, 'truncated_loss': truncated_loss})\n",
    "\n",
    "# Show the model architecture\n",
    "new_model.summary()"
   ]
  },
  {
   "cell_type": "code",
   "execution_count": 38,
   "metadata": {},
   "outputs": [
    {
     "name": "stdout",
     "output_type": "stream",
     "text": [
      "Model: \"sequential_7\"\n",
      "_________________________________________________________________\n",
      " Layer (type)                Output Shape              Param #   \n",
      "=================================================================\n",
      " dense_14 (Dense)            (None, 512)               401920    \n",
      "                                                                 \n",
      " dropout_7 (Dropout)         (None, 512)               0         \n",
      "                                                                 \n",
      " dense_15 (Dense)            (None, 10)                5130      \n",
      "                                                                 \n",
      "=================================================================\n",
      "Total params: 407050 (1.55 MB)\n",
      "Trainable params: 407050 (1.55 MB)\n",
      "Non-trainable params: 0 (0.00 Byte)\n",
      "_________________________________________________________________\n"
     ]
    }
   ],
   "source": [
    "# Recreate the exact same model, including its weights and the optimizer\n",
    "new_model = tf.keras.models.load_model('my_model.h5')\n",
    "\n",
    "# Show the model architecture\n",
    "new_model.summary()"
   ]
  },
  {
   "cell_type": "code",
   "execution_count": 39,
   "metadata": {},
   "outputs": [
    {
     "ename": "FileNotFoundError",
     "evalue": "[Errno 2] No such file or directory: 'fra.txt'",
     "output_type": "error",
     "traceback": [
      "\u001b[1;31m---------------------------------------------------------------------------\u001b[0m",
      "\u001b[1;31mFileNotFoundError\u001b[0m                         Traceback (most recent call last)",
      "Cell \u001b[1;32mIn[39], line 71\u001b[0m\n\u001b[0;32m     69\u001b[0m input_characters \u001b[39m=\u001b[39m \u001b[39mset\u001b[39m()\n\u001b[0;32m     70\u001b[0m target_characters \u001b[39m=\u001b[39m \u001b[39mset\u001b[39m()\n\u001b[1;32m---> 71\u001b[0m \u001b[39mwith\u001b[39;00m \u001b[39mopen\u001b[39;49m(data_path, \u001b[39m'\u001b[39;49m\u001b[39mr\u001b[39;49m\u001b[39m'\u001b[39;49m, encoding\u001b[39m=\u001b[39;49m\u001b[39m'\u001b[39;49m\u001b[39mutf-8\u001b[39;49m\u001b[39m'\u001b[39;49m) \u001b[39mas\u001b[39;00m f:\n\u001b[0;32m     72\u001b[0m     lines \u001b[39m=\u001b[39m f\u001b[39m.\u001b[39mread()\u001b[39m.\u001b[39msplit(\u001b[39m'\u001b[39m\u001b[39m\\n\u001b[39;00m\u001b[39m'\u001b[39m)\n\u001b[0;32m     73\u001b[0m \u001b[39mfor\u001b[39;00m line \u001b[39min\u001b[39;00m lines[: \u001b[39mmin\u001b[39m(num_samples, \u001b[39mlen\u001b[39m(lines) \u001b[39m-\u001b[39m \u001b[39m1\u001b[39m)]:\n",
      "File \u001b[1;32mc:\\Users\\P52s\\.conda\\envs\\cnn\\lib\\site-packages\\IPython\\core\\interactiveshell.py:284\u001b[0m, in \u001b[0;36m_modified_open\u001b[1;34m(file, *args, **kwargs)\u001b[0m\n\u001b[0;32m    277\u001b[0m \u001b[39mif\u001b[39;00m file \u001b[39min\u001b[39;00m {\u001b[39m0\u001b[39m, \u001b[39m1\u001b[39m, \u001b[39m2\u001b[39m}:\n\u001b[0;32m    278\u001b[0m     \u001b[39mraise\u001b[39;00m \u001b[39mValueError\u001b[39;00m(\n\u001b[0;32m    279\u001b[0m         \u001b[39mf\u001b[39m\u001b[39m\"\u001b[39m\u001b[39mIPython won\u001b[39m\u001b[39m'\u001b[39m\u001b[39mt let you open fd=\u001b[39m\u001b[39m{\u001b[39;00mfile\u001b[39m}\u001b[39;00m\u001b[39m by default \u001b[39m\u001b[39m\"\u001b[39m\n\u001b[0;32m    280\u001b[0m         \u001b[39m\"\u001b[39m\u001b[39mas it is likely to crash IPython. If you know what you are doing, \u001b[39m\u001b[39m\"\u001b[39m\n\u001b[0;32m    281\u001b[0m         \u001b[39m\"\u001b[39m\u001b[39myou can use builtins\u001b[39m\u001b[39m'\u001b[39m\u001b[39m open.\u001b[39m\u001b[39m\"\u001b[39m\n\u001b[0;32m    282\u001b[0m     )\n\u001b[1;32m--> 284\u001b[0m \u001b[39mreturn\u001b[39;00m io_open(file, \u001b[39m*\u001b[39;49margs, \u001b[39m*\u001b[39;49m\u001b[39m*\u001b[39;49mkwargs)\n",
      "\u001b[1;31mFileNotFoundError\u001b[0m: [Errno 2] No such file or directory: 'fra.txt'"
     ]
    }
   ],
   "source": []
  },
  {
   "cell_type": "code",
   "execution_count": null,
   "metadata": {},
   "outputs": [],
   "source": []
  }
 ],
 "metadata": {
  "kernelspec": {
   "display_name": "cnn",
   "language": "python",
   "name": "python3"
  },
  "language_info": {
   "codemirror_mode": {
    "name": "ipython",
    "version": 3
   },
   "file_extension": ".py",
   "mimetype": "text/x-python",
   "name": "python",
   "nbconvert_exporter": "python",
   "pygments_lexer": "ipython3",
   "version": "3.8.17"
  },
  "orig_nbformat": 4
 },
 "nbformat": 4,
 "nbformat_minor": 2
}
