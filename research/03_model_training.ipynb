{
 "cells": [
  {
   "cell_type": "code",
   "execution_count": 1,
   "metadata": {},
   "outputs": [
    {
     "data": {
      "text/plain": [
       "'c:\\\\Users\\\\P52s\\\\Documents\\\\Python Project\\\\SpellX'"
      ]
     },
     "execution_count": 1,
     "metadata": {},
     "output_type": "execute_result"
    }
   ],
   "source": [
    "import os\n",
    "os.chdir(\"../\") \n",
    "\n",
    "%pwd"
   ]
  },
  {
   "cell_type": "code",
   "execution_count": 11,
   "metadata": {},
   "outputs": [],
   "source": [
    "from dataclasses import dataclass\n",
    "from pathlib import Path\n",
    "import spello\n",
    "\n",
    "@dataclass(frozen=True)\n",
    "class ModelTrainerConfig:\n",
    "    root_dir : Path\n",
    "    data_path : Path\n",
    "    data_file : Path"
   ]
  },
  {
   "cell_type": "code",
   "execution_count": 12,
   "metadata": {},
   "outputs": [],
   "source": [
    "from spellX.constants import *\n",
    "from spellX.utils.common import read_yaml, create_directories"
   ]
  },
  {
   "cell_type": "code",
   "execution_count": 13,
   "metadata": {},
   "outputs": [],
   "source": [
    "class ConfigurationManager:\n",
    "    def __init__(\n",
    "        self,\n",
    "        config_filepath = CONFIG_FILE_PATH,\n",
    "        params_filepath = PARAMS_FILE_PATH):\n",
    "\n",
    "        self.config = read_yaml(config_filepath)\n",
    "        self.params = read_yaml(params_filepath)\n",
    "\n",
    "        create_directories([self.config.artifacts_root])\n",
    "\n",
    "\n",
    "    \n",
    "    def get_model_trainer_config(self) -> ModelTrainerConfig:\n",
    "        config = self.config.model_trainer\n",
    "\n",
    "        create_directories([config.root_dir])\n",
    "\n",
    "        model_trainer_config = ModelTrainerConfig(\n",
    "            root_dir=config.root_dir,\n",
    "            data_path=config.data_path,\n",
    "            data_file = config.data_file,\n",
    "            \n",
    "        )\n",
    "\n",
    "        return model_trainer_config"
   ]
  },
  {
   "cell_type": "code",
   "execution_count": 14,
   "metadata": {},
   "outputs": [],
   "source": [
    "from spello.model import SpellCorrectionModel\n",
    "import re\n",
    "import pickle\n",
    "from spellX.utils.trainer  import read_text\n",
    "\n",
    "class ModelTrainer :\n",
    "    def __init__(self, config: ModelTrainerConfig):\n",
    "        self.config = config\n",
    "        self.model_count = 0 \n",
    "\n",
    "    def get_model_filename(self):\n",
    "        # Generate the filename for the current model\n",
    "        return f\"{self.config.root_dir}/model{self.model_count}.pkl\"\n",
    "    \n",
    "    def train(self):\n",
    "\n",
    "        model_path = self.get_model_filename()\n",
    "\n",
    "        if not os.path.exists(model_path):\n",
    "            with open(\"./artifacts/data_ingestion/data/train/big.txt\", \"r\") as f:\n",
    "                big = f.readlines()\n",
    "            big  = [i.strip() for i in big]\n",
    "            #Remove \\t - tab\n",
    "            big_t = [re.sub('\\\\t', ' ', text) for text in big]\n",
    "            #Remove \\\\\n",
    "            big_ = [re.sub(\"\\\\'\", \"\", text) for text in big_t]\n",
    "            #Remove\n",
    "            big_r = [text for text in big_ if text != '']\n",
    "            #Remove Special characters\n",
    "            big_star = [re.sub(r'[^a-zA-Z]+', ' ', text) for text in big_r]\n",
    "            #Remove leading and trailing spaces\n",
    "            big_stripped = [text.strip() for text in big_star]\n",
    "            sp = SpellCorrectionModel(language='en')\n",
    "            sp.train(big_stripped)\n",
    "            self.sp = sp\n",
    "\n",
    "            with open(model_path, 'wb') as file:\n",
    "                pickle.dump(self.sp, file)\n",
    "\n",
    "        else:\n",
    "            with open(model_path, 'rb') as file:\n",
    "                sp = pickle.load(file)\n",
    "            data = read_text(self.config.data_path, self.config.data_file)\n",
    "            sp.train(data)\n",
    "\n",
    "            # Increment the model count for the next model\n",
    "            self.model_count += 1\n",
    "                \n",
    "\n",
    "\n",
    "\n"
   ]
  },
  {
   "cell_type": "code",
   "execution_count": 15,
   "metadata": {},
   "outputs": [
    {
     "name": "stdout",
     "output_type": "stream",
     "text": [
      "[2023-09-07 23:51:27,590: INFO: common: yaml file: config\\config.yaml loaded successfully]\n",
      "[2023-09-07 23:51:27,599: INFO: common: yaml file: params.yaml loaded successfully]\n",
      "[2023-09-07 23:51:27,599: INFO: common: created directory at: artifacts]\n",
      "[2023-09-07 23:51:27,607: INFO: common: created directory at: artifacts/model_trainer]\n"
     ]
    },
    {
     "name": "stdout",
     "output_type": "stream",
     "text": [
      "Spello training started..\n",
      "[2023-09-07 23:51:30,191: DEBUG: model: Spello training started..]\n",
      "Context model training started ...\n",
      "[2023-09-07 23:51:30,947: DEBUG: model: Context model training started ...]\n",
      "Symspell training started ...\n",
      "[2023-09-07 23:52:04,197: DEBUG: model: Symspell training started ...]\n",
      "[2023-09-07 23:52:04,205: INFO: symspell: Creating spell check dictionary...]\n",
      "[2023-09-07 23:53:06,359: INFO: symspell: 62.16 seconds to run]\n",
      "[2023-09-07 23:53:06,367: INFO: symspell: total words processed: 29624]\n",
      "[2023-09-07 23:53:06,368: INFO: symspell: total unique words in corpus: 29624]\n",
      "[2023-09-07 23:53:06,371: INFO: symspell: total items in dictionary (corpus words & deletions): 2112195]\n",
      "[2023-09-07 23:53:06,371: INFO: symspell: edit distance for deletions: 3]\n",
      "[2023-09-07 23:53:06,371: INFO: symspell: length of longest word in corpus: 18]\n",
      "Phoneme training started ...\n",
      "[2023-09-07 23:53:06,371: DEBUG: model: Phoneme training started ...]\n",
      "Spello training completed successfully ...\n",
      "[2023-09-07 23:53:06,953: DEBUG: model: Spello training completed successfully ...]\n"
     ]
    }
   ],
   "source": [
    "try:\n",
    "    config = ConfigurationManager()\n",
    "    model_trainer_config = config.get_model_trainer_config()\n",
    "    model_trainer_config = ModelTrainer(config=model_trainer_config)\n",
    "    model_trainer_config.train()\n",
    "except Exception as e:\n",
    "    raise e"
   ]
  },
  {
   "cell_type": "code",
   "execution_count": null,
   "metadata": {},
   "outputs": [],
   "source": []
  }
 ],
 "metadata": {
  "kernelspec": {
   "display_name": "chat",
   "language": "python",
   "name": "python3"
  },
  "language_info": {
   "codemirror_mode": {
    "name": "ipython",
    "version": 3
   },
   "file_extension": ".py",
   "mimetype": "text/x-python",
   "name": "python",
   "nbconvert_exporter": "python",
   "pygments_lexer": "ipython3",
   "version": "3.6.13"
  },
  "orig_nbformat": 4
 },
 "nbformat": 4,
 "nbformat_minor": 2
}
